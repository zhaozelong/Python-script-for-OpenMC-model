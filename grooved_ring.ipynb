{
 "cells": [
  {
   "cell_type": "code",
   "execution_count": 1,
   "id": "cacc914b",
   "metadata": {},
   "outputs": [],
   "source": [
    "%matplotlib inline\n",
    "from math import pi, sin, cos, tan\n",
    "from IPython.display import Image\n",
    "import numpy as np\n",
    "import matplotlib.pyplot as plt\n",
    "import openmc"
   ]
  },
  {
   "cell_type": "code",
   "execution_count": 2,
   "id": "acbce321",
   "metadata": {},
   "outputs": [],
   "source": [
    "temp=[294,294,294,294,294,294]"
   ]
  },
  {
   "cell_type": "code",
   "execution_count": 3,
   "id": "95001358",
   "metadata": {},
   "outputs": [
    {
     "name": "stdout",
     "output_type": "stream",
     "text": [
      "<?xml version='1.0' encoding='utf-8'?>\r\n",
      "<materials>\r\n",
      "  <material id=\"1\" name=\"h21\" temperature=\"294\">\r\n",
      "    <density units=\"g/cm3\" value=\"0.000661453\" />\r\n",
      "    <nuclide ao=\"1.0\" name=\"H1\" />\r\n",
      "  </material>\r\n",
      "  <material depletable=\"true\" id=\"2\" name=\"uzrc\" temperature=\"294\">\r\n",
      "    <density units=\"g/cm3\" value=\"7.13697427\" />\r\n",
      "    <nuclide ao=\"0.0035\" name=\"U235\" />\r\n",
      "    <nuclide ao=\"0.0965\" name=\"U238\" />\r\n",
      "    <nuclide ao=\"0.5145\" name=\"Zr90\" />\r\n",
      "    <nuclide ao=\"0.1122\" name=\"Zr91\" />\r\n",
      "    <nuclide ao=\"0.1715\" name=\"Zr92\" />\r\n",
      "    <nuclide ao=\"0.1738\" name=\"Zr94\" />\r\n",
      "    <nuclide ao=\"0.028\" name=\"Zr96\" />\r\n",
      "    <nuclide ao=\"0.92\" name=\"C0\" />\r\n",
      "  </material>\r\n",
      "  <material id=\"3\" name=\"h22\" temperature=\"294\">\r\n",
      "    <density units=\"g/cm3\" value=\"0.000661453\" />\r\n",
      "    <nuclide ao=\"1.0\" name=\"H1\" />\r\n",
      "  </material>\r\n",
      "  <material id=\"4\" name=\"zrh\" temperature=\"294\">\r\n",
      "    <density units=\"g/cm3\" value=\"5.6\" />\r\n",
      "    <nuclide ao=\"0.5145\" name=\"Zr90\" />\r\n",
      "    <nuclide ao=\"0.1122\" name=\"Zr91\" />\r\n",
      "    <nuclide ao=\"0.1715\" name=\"Zr92\" />\r\n",
      "    <nuclide ao=\"0.1738\" name=\"Zr94\" />\r\n",
      "    <nuclide ao=\"0.028\" name=\"Zr96\" />\r\n",
      "    <nuclide ao=\"2.0\" name=\"H1\" />\r\n",
      "  </material>\r\n",
      "  <material id=\"5\" name=\"beo\" temperature=\"294\">\r\n",
      "    <density units=\"g/cm3\" value=\"3.025\" />\r\n",
      "    <nuclide ao=\"1.0\" name=\"Be9\" />\r\n",
      "    <nuclide ao=\"0.999621\" name=\"O16\" />\r\n",
      "    <nuclide ao=\"0.000379\" name=\"O17\" />\r\n",
      "  </material>\r\n",
      "  <material id=\"6\" name=\"b4c\" temperature=\"294\">\r\n",
      "    <density units=\"g/cm3\" value=\"2.52\" />\r\n",
      "    <nuclide ao=\"0.2\" name=\"B10\" />\r\n",
      "    <nuclide ao=\"0.8\" name=\"B11\" />\r\n",
      "    <nuclide ao=\"1.0\" name=\"C0\" />\r\n",
      "  </material>\r\n",
      "</materials>\r\n"
     ]
    }
   ],
   "source": [
    "#material\n",
    "#h21\n",
    "h21=openmc.Material(name='h21',temperature=temp[0])\n",
    "h21.set_density('g/cm3', 6.61453E-4)\n",
    "h21.add_nuclide('H1',1.0)\n",
    "#uzrc\n",
    "uzrc=openmc.Material(name='uzrc',temperature=temp[1])\n",
    "uzrc.set_density('g/cm3', 7.13697427)\n",
    "uzrc.add_nuclide('U235',0.0035)\n",
    "uzrc.add_nuclide('U238',0.0965)\n",
    "uzrc.add_element('Zr', 1.0)\n",
    "uzrc.add_element('C', 0.92)\n",
    "#h22\n",
    "h22=openmc.Material(name='h22',temperature=temp[2])\n",
    "h22.set_density('g/cm3', 6.61453E-4)\n",
    "h22.add_nuclide('H1',1.0)\n",
    "#zrh\n",
    "zrh=openmc.Material(name='zrh',temperature=temp[3])\n",
    "zrh.set_density('g/cm3', 5.6)\n",
    "zrh.add_element('Zr', 1.0)\n",
    "zrh.add_nuclide('H1',2.0)\n",
    "#beo\n",
    "beo=openmc.Material(name='beo',temperature=temp[4])\n",
    "beo.set_density('g/cm3', 3.025)\n",
    "beo.add_element('Be', 1.0)\n",
    "beo.add_element('O', 1.0)\n",
    "#b4c\n",
    "b4c=openmc.Material(name='b4c',temperature=temp[5])\n",
    "b4c.set_density('g/cm3', 2.52)\n",
    "b4c.add_nuclide('B10',0.2)\n",
    "b4c.add_nuclide('B11',0.8)\n",
    "b4c.add_element('C',1.0)\n",
    "#materail.xml\n",
    "materials = openmc.Materials([h21,uzrc,h22,zrh,beo,b4c])\n",
    "materials.export_to_xml()\n",
    "!cat materials.xml"
   ]
  },
  {
   "cell_type": "code",
   "execution_count": 4,
   "id": "dab272ae",
   "metadata": {},
   "outputs": [],
   "source": [
    "#surface\n",
    "#surface\n",
    "inner_room_radius=openmc.ZCylinder(r=0.63)\n",
    "fuel_ring_outer_radius=openmc.ZCylinder(r=2.0)\n",
    "outer_room_radius=openmc.ZCylinder(r=2.5)\n",
    "active_zone_radius=openmc.ZCylinder(r=47.0)\n",
    "radial_buffer_radius=openmc.ZCylinder(r=59.0,boundary_type='vacuum')\n",
    "bot_buffer=openmc.ZPlane(z0=-10,boundary_type='vacuum')\n",
    "bot_active_zone=openmc.ZPlane(z0=0)\n",
    "top_active_zone=openmc.ZPlane(z0=120)\n",
    "top_buffer=openmc.ZPlane(z0=140,boundary_type='vacuum')"
   ]
  },
  {
   "cell_type": "code",
   "execution_count": 5,
   "id": "83c0da19",
   "metadata": {},
   "outputs": [],
   "source": [
    "#cell&universe\n",
    "# u of fuel\n",
    "inner_room=openmc.Cell(fill=h21,region=-inner_room_radius)\n",
    "fuel=openmc.Cell(fill=uzrc,region=+inner_room_radius & -fuel_ring_outer_radius)\n",
    "outer_room=openmc.Cell(fill=h22,region=+fuel_ring_outer_radius & -outer_room_radius)\n",
    "moderater=openmc.Cell(fill=zrh,region=+outer_room_radius)\n",
    "element=openmc.Universe(cells=(inner_room,fuel,outer_room,moderater))\n",
    "# u of buffer\n",
    "void_inner=openmc.Cell(fill=beo,region=-inner_room_radius)\n",
    "void_outer=openmc.Cell(fill=beo,region=+inner_room_radius)\n",
    "void_element=openmc.Universe(cells=(void_inner,void_outer))"
   ]
  },
  {
   "cell_type": "code",
   "execution_count": 6,
   "id": "d521e0c7",
   "metadata": {},
   "outputs": [],
   "source": [
    "lattice = openmc.HexLattice()\n",
    "lattice.orientation = 'y'\n",
    "lattice.center = (0.0, 0.0)\n",
    "lattice.pitch = [6.0]\n",
    "outer=openmc.Cell(fill=beo)\n",
    "outer_universe=openmc.Universe(cells=(outer,))\n",
    "lattice.outer = outer_universe\n",
    "lattice.universes = [([void_element]*2+[element]*5+[void_element]*1)*6,[element]*42,[element]*36,[element]*30,[element]*24,[element]*18,[element]*12,[element]*6,[element]]\n",
    "main_cell = openmc.Cell(fill=lattice, region=-active_zone_radius & +bot_active_zone & -top_active_zone)"
   ]
  },
  {
   "cell_type": "code",
   "execution_count": 7,
   "id": "707d6228",
   "metadata": {},
   "outputs": [],
   "source": [
    "outer_drum_radius=openmc.ZCylinder(r=5.5)\n",
    "inner_drum_radius=openmc.ZCylinder(r=3.5)\n",
    "buffer_cell=openmc.Cell(fill=beo,region=+active_zone_radius & -radial_buffer_radius)\n",
    "buffer_universe=openmc.Universe(cells=(buffer_cell,))\n",
    "ang=[0,15,30,45,60,75,90,105,120,135,150,165,180]\n",
    "#ang=[0,0,0,0,0,0,0,0,0,0,0,0,0]\n",
    "drum_a_data=1.0\n",
    "#drum_b_data=tan(ang[0]/180*pi)\n",
    "drum_c_data=0\n",
    "drum_d_data=0\n",
    "for i in range(0,12):\n",
    "    theta=(15+30*i)*pi/180\n",
    "    x=53*cos(theta)\n",
    "    y=53*sin(theta)\n",
    "    drum_boundary=openmc.ZCylinder(x0=x, y0=y, r=5.5)\n",
    "    buffer_cell.region=buffer_cell.region & +drum_boundary\n",
    "    drum_a_data=cos((ang[0])/180*pi+theta)\n",
    "    drum_b_data=sin((ang[0])/180*pi+theta)\n",
    "    drum_cut=openmc.Plane(a=drum_a_data,b=drum_b_data,c=drum_c_data,d=drum_d_data)\n",
    "    b4c_part=openmc.Cell(fill=b4c,region=+inner_drum_radius & -outer_drum_radius & +drum_cut)\n",
    "    beo_part=openmc.Cell(fill=beo,region=~(+inner_drum_radius & -outer_drum_radius & +drum_cut))\n",
    "    control_drum_universe=openmc.Universe(cells=(b4c_part, beo_part))\n",
    "    \n",
    "    drum=openmc.Cell(fill=control_drum_universe, region=-drum_boundary)\n",
    "    drum.translation=(x,y,0)\n",
    "    buffer_universe.add_cell(drum)\n",
    "buffer=openmc.Cell(fill=buffer_universe,region=+active_zone_radius & -radial_buffer_radius & +bot_active_zone & -top_active_zone)"
   ]
  },
  {
   "cell_type": "code",
   "execution_count": 8,
   "id": "626faf34",
   "metadata": {},
   "outputs": [
    {
     "data": {
      "text/plain": [
       "<matplotlib.image.AxesImage at 0x7f5e26f1ef40>"
      ]
     },
     "execution_count": 8,
     "metadata": {},
     "output_type": "execute_result"
    },
    {
     "data": {
      "image/png": "[encoded data removed]",
      "text/plain": [
       "<Figure size 432x288 with 1 Axes>"
      ]
     },
     "metadata": {
      "needs_background": "light"
     },
     "output_type": "display_data"
    }
   ],
   "source": [
    "buffer_universe.plot(width=(120,120),basis='xy',color_by='material')"
   ]
  },
  {
   "cell_type": "code",
   "execution_count": 9,
   "id": "bad836a2",
   "metadata": {},
   "outputs": [],
   "source": [
    "top_buffer=openmc.Cell(fill=beo,region=+top_active_zone & -radial_buffer_radius & -top_buffer)\n",
    "bot_buffer=openmc.Cell(fill=beo,region=-bot_active_zone & +bot_buffer & -radial_buffer_radius)"
   ]
  },
  {
   "cell_type": "code",
   "execution_count": 10,
   "id": "6553fa1a",
   "metadata": {},
   "outputs": [
    {
     "data": {
      "text/plain": [
       "<matplotlib.image.AxesImage at 0x7f5e68e76550>"
      ]
     },
     "execution_count": 10,
     "metadata": {},
     "output_type": "execute_result"
    },
    {
     "data": {
      "image/png": "[encoded data removed]",
      "text/plain": [
       "<Figure size 432x288 with 1 Axes>"
      ]
     },
     "metadata": {
      "needs_background": "light"
     },
     "output_type": "display_data"
    }
   ],
   "source": [
    "draw_universe = openmc.Universe(cells=(main_cell,buffer))\n",
    "draw_universe.plot(width=[140,140],color_by='material')\n"
   ]
  },
  {
   "cell_type": "code",
   "execution_count": 11,
   "id": "d7d1c9b7",
   "metadata": {},
   "outputs": [
    {
     "name": "stdout",
     "output_type": "stream",
     "text": [
      "<?xml version='1.0' encoding='utf-8'?>\r\n",
      "<geometry>\r\n",
      "  <cell id=\"1\" material=\"1\" region=\"-1\" universe=\"1\" />\r\n",
      "  <cell id=\"2\" material=\"2\" region=\"1 -2\" universe=\"1\" />\r\n",
      "  <cell id=\"3\" material=\"3\" region=\"2 -3\" universe=\"1\" />\r\n",
      "  <cell id=\"4\" material=\"4\" region=\"3\" universe=\"1\" />\r\n",
      "  <cell id=\"5\" material=\"5\" region=\"-1\" universe=\"2\" />\r\n",
      "  <cell id=\"6\" material=\"5\" region=\"1\" universe=\"2\" />\r\n",
      "  <cell id=\"7\" material=\"5\" universe=\"4\" />\r\n",
      "  <cell fill=\"3\" id=\"8\" region=\"-4 7 -8\" universe=\"19\" />\r\n",
      "  <cell id=\"9\" material=\"5\" region=\"4 -5 12 14 16 18 20 22 24 26 28 30 32 34\" universe=\"5\" />\r\n",
      "  <cell id=\"10\" material=\"6\" region=\"11 -10 13\" universe=\"6\" />\r\n",
      "  <cell id=\"11\" material=\"5\" region=\"~(11 -10 13)\" universe=\"6\" />\r\n",
      "  <cell fill=\"6\" id=\"12\" region=\"-12\" translation=\"51.19406879332062 13.717409390433598 0.0\" universe=\"5\" />\r\n",
      "  <cell id=\"13\" material=\"6\" region=\"11 -10 15\" universe=\"7\" />\r\n",
      "  <cell id=\"14\" material=\"5\" region=\"~(11 -10 15)\" universe=\"7\" />\r\n",
      "  <cell fill=\"7\" id=\"15\" region=\"-14\" translation=\"37.47665940288702 37.476659402887016 0.0\" universe=\"5\" />\r\n",
      "  <cell id=\"16\" material=\"6\" region=\"11 -10 17\" universe=\"8\" />\r\n",
      "  <cell id=\"17\" material=\"5\" region=\"~(11 -10 17)\" universe=\"8\" />\r\n",
      "  <cell fill=\"8\" id=\"18\" region=\"-16\" translation=\"13.717409390433598 51.19406879332062 0.0\" universe=\"5\" />\r\n",
      "  <cell id=\"19\" material=\"6\" region=\"11 -10 19\" universe=\"9\" />\r\n",
      "  <cell id=\"20\" material=\"5\" region=\"~(11 -10 19)\" universe=\"9\" />\r\n",
      "  <cell fill=\"9\" id=\"21\" region=\"-18\" translation=\"-13.717409390433605 51.19406879332062 0.0\" universe=\"5\" />\r\n",
      "  <cell id=\"22\" material=\"6\" region=\"11 -10 21\" universe=\"10\" />\r\n",
      "  <cell id=\"23\" material=\"5\" region=\"~(11 -10 21)\" universe=\"10\" />\r\n",
      "  <cell fill=\"10\" id=\"24\" region=\"-20\" translation=\"-37.476659402887016 37.47665940288702 0.0\" universe=\"5\" />\r\n",
      "  <cell id=\"25\" material=\"6\" region=\"11 -10 23\" universe=\"11\" />\r\n",
      "  <cell id=\"26\" material=\"5\" region=\"~(11 -10 23)\" universe=\"11\" />\r\n",
      "  <cell fill=\"11\" id=\"27\" region=\"-22\" translation=\"-51.19406879332062 13.717409390433614 0.0\" universe=\"5\" />\r\n",
      "  <cell id=\"28\" material=\"6\" region=\"11 -10 25\" universe=\"12\" />\r\n",
      "  <cell id=\"29\" material=\"5\" region=\"~(11 -10 25)\" universe=\"12\" />\r\n",
      "  <cell fill=\"12\" id=\"30\" region=\"-24\" translation=\"-51.194068793320625 -13.717409390433579 0.0\" universe=\"5\" />\r\n",
      "  <cell id=\"31\" material=\"6\" region=\"11 -10 27\" universe=\"13\" />\r\n",
      "  <cell id=\"32\" material=\"5\" region=\"~(11 -10 27)\" universe=\"13\" />\r\n",
      "  <cell fill=\"13\" id=\"33\" region=\"-26\" translation=\"-37.47665940288703 -37.476659402887016 0.0\" universe=\"5\" />\r\n",
      "  <cell id=\"34\" material=\"6\" region=\"11 -10 29\" universe=\"14\" />\r\n",
      "  <cell id=\"35\" material=\"5\" region=\"~(11 -10 29)\" universe=\"14\" />\r\n",
      "  <cell fill=\"14\" id=\"36\" region=\"-28\" translation=\"-13.717409390433593 -51.19406879332062 0.0\" universe=\"5\" />\r\n",
      "  <cell id=\"37\" material=\"6\" region=\"11 -10 31\" universe=\"15\" />\r\n",
      "  <cell id=\"38\" material=\"5\" region=\"~(11 -10 31)\" universe=\"15\" />\r\n",
      "  <cell fill=\"15\" id=\"39\" region=\"-30\" translation=\"13.71740939043362 -51.19406879332062 0.0\" universe=\"5\" />\r\n",
      "  <cell id=\"40\" material=\"6\" region=\"11 -10 33\" universe=\"16\" />\r\n",
      "  <cell id=\"41\" material=\"5\" region=\"~(11 -10 33)\" universe=\"16\" />\r\n",
      "  <cell fill=\"16\" id=\"42\" region=\"-32\" translation=\"37.47665940288701 -37.47665940288703 0.0\" universe=\"5\" />\r\n",
      "  <cell id=\"43\" material=\"6\" region=\"11 -10 35\" universe=\"17\" />\r\n",
      "  <cell id=\"44\" material=\"5\" region=\"~(11 -10 35)\" universe=\"17\" />\r\n",
      "  <cell fill=\"17\" id=\"45\" region=\"-34\" translation=\"51.19406879332062 -13.717409390433597 0.0\" universe=\"5\" />\r\n",
      "  <cell fill=\"5\" id=\"46\" region=\"4 -5 7 -8\" universe=\"19\" />\r\n",
      "  <cell id=\"47\" material=\"5\" region=\"8 -5 -9\" universe=\"19\" />\r\n",
      "  <cell id=\"48\" material=\"5\" region=\"-7 6 -5\" universe=\"19\" />\r\n",
      "  <hex_lattice id=\"3\" n_rings=\"9\">\r\n",
      "    <pitch>6.0</pitch>\r\n",
      "    <outer>4</outer>\r\n",
      "    <center>0.0 0.0</center>\r\n",
      "    <universes>\r\n",
      "        2\r\n",
      "       2 2\r\n",
      "      1 1 1\r\n",
      "     1 1 1 1\r\n",
      "    1 1 1 1 1\r\n",
      "   1 1 1 1 1 1\r\n",
      "  1 1 1 1 1 1 1\r\n",
      " 2 1 1 1 1 1 1 2\r\n",
      "2 1 1 1 1 1 1 1 2\r\n",
      " 1 1 1 1 1 1 1 1\r\n",
      "2 1 1 1 1 1 1 1 2\r\n",
      " 1 1 1 1 1 1 1 1\r\n",
      "1 1 1 1 1 1 1 1 1\r\n",
      " 1 1 1 1 1 1 1 1\r\n",
      "1 1 1 1 1 1 1 1 1\r\n",
      " 1 1 1 1 1 1 1 1\r\n",
      "1 1 1 1 1 1 1 1 1\r\n",
      " 1 1 1 1 1 1 1 1\r\n",
      "1 1 1 1 1 1 1 1 1\r\n",
      " 1 1 1 1 1 1 1 1\r\n",
      "1 1 1 1 1 1 1 1 1\r\n",
      " 1 1 1 1 1 1 1 1\r\n",
      "2 1 1 1 1 1 1 1 2\r\n",
      " 1 1 1 1 1 1 1 1\r\n",
      "2 1 1 1 1 1 1 1 2\r\n",
      " 2 1 1 1 1 1 1 2\r\n",
      "  1 1 1 1 1 1 1\r\n",
      "   1 1 1 1 1 1\r\n",
      "    1 1 1 1 1\r\n",
      "     1 1 1 1\r\n",
      "      1 1 1\r\n",
      "       2 2\r\n",
      "        2</universes>\r\n",
      "  </hex_lattice>\r\n",
      "  <surface coeffs=\"0.0 0.0 0.63\" id=\"1\" type=\"z-cylinder\" />\r\n",
      "  <surface coeffs=\"0.0 0.0 2.0\" id=\"2\" type=\"z-cylinder\" />\r\n",
      "  <surface coeffs=\"0.0 0.0 2.5\" id=\"3\" type=\"z-cylinder\" />\r\n",
      "  <surface coeffs=\"0.0 0.0 47.0\" id=\"4\" type=\"z-cylinder\" />\r\n",
      "  <surface boundary=\"vacuum\" coeffs=\"0.0 0.0 59.0\" id=\"5\" type=\"z-cylinder\" />\r\n",
      "  <surface boundary=\"vacuum\" coeffs=\"-10\" id=\"6\" type=\"z-plane\" />\r\n",
      "  <surface coeffs=\"0\" id=\"7\" type=\"z-plane\" />\r\n",
      "  <surface coeffs=\"120\" id=\"8\" type=\"z-plane\" />\r\n",
      "  <surface boundary=\"vacuum\" coeffs=\"140\" id=\"9\" type=\"z-plane\" />\r\n",
      "  <surface coeffs=\"0.0 0.0 5.5\" id=\"10\" type=\"z-cylinder\" />\r\n",
      "  <surface coeffs=\"0.0 0.0 3.5\" id=\"11\" type=\"z-cylinder\" />\r\n",
      "  <surface coeffs=\"51.19406879332062 13.717409390433598 5.5\" id=\"12\" type=\"z-cylinder\" />\r\n",
      "  <surface coeffs=\"0.9659258262890683 0.25881904510252074 0 0\" id=\"13\" type=\"plane\" />\r\n",
      "  <surface coeffs=\"37.47665940288702 37.476659402887016 5.5\" id=\"14\" type=\"z-cylinder\" />\r\n",
      "  <surface coeffs=\"0.7071067811865476 0.7071067811865475 0 0\" id=\"15\" type=\"plane\" />\r\n",
      "  <surface coeffs=\"13.717409390433598 51.19406879332062 5.5\" id=\"16\" type=\"z-cylinder\" />\r\n",
      "  <surface coeffs=\"0.25881904510252074 0.9659258262890683 0 0\" id=\"17\" type=\"plane\" />\r\n",
      "  <surface coeffs=\"-13.717409390433605 51.19406879332062 5.5\" id=\"18\" type=\"z-cylinder\" />\r\n",
      "  <surface coeffs=\"-0.25881904510252085 0.9659258262890683 0 0\" id=\"19\" type=\"plane\" />\r\n",
      "  <surface coeffs=\"-37.476659402887016 37.47665940288702 5.5\" id=\"20\" type=\"z-cylinder\" />\r\n",
      "  <surface coeffs=\"-0.7071067811865475 0.7071067811865476 0 0\" id=\"21\" type=\"plane\" />\r\n",
      "  <surface coeffs=\"-51.19406879332062 13.717409390433614 5.5\" id=\"22\" type=\"z-cylinder\" />\r\n",
      "  <surface coeffs=\"-0.9659258262890682 0.258819045102521 0 0\" id=\"23\" type=\"plane\" />\r\n",
      "  <surface coeffs=\"-51.194068793320625 -13.717409390433579 5.5\" id=\"24\" type=\"z-cylinder\" />\r\n",
      "  <surface coeffs=\"-0.9659258262890684 -0.25881904510252035 0 0\" id=\"25\" type=\"plane\" />\r\n",
      "  <surface coeffs=\"-37.47665940288703 -37.476659402887016 5.5\" id=\"26\" type=\"z-cylinder\" />\r\n",
      "  <surface coeffs=\"-0.7071067811865477 -0.7071067811865475 0 0\" id=\"27\" type=\"plane\" />\r\n",
      "  <surface coeffs=\"-13.717409390433593 -51.19406879332062 5.5\" id=\"28\" type=\"z-cylinder\" />\r\n",
      "  <surface coeffs=\"-0.25881904510252063 -0.9659258262890683 0 0\" id=\"29\" type=\"plane\" />\r\n",
      "  <surface coeffs=\"13.71740939043362 -51.19406879332062 5.5\" id=\"30\" type=\"z-cylinder\" />\r\n",
      "  <surface coeffs=\"0.25881904510252113 -0.9659258262890682 0 0\" id=\"31\" type=\"plane\" />\r\n",
      "  <surface coeffs=\"37.47665940288701 -37.47665940288703 5.5\" id=\"32\" type=\"z-cylinder\" />\r\n",
      "  <surface coeffs=\"0.7071067811865474 -0.7071067811865477 0 0\" id=\"33\" type=\"plane\" />\r\n",
      "  <surface coeffs=\"51.19406879332062 -13.717409390433597 5.5\" id=\"34\" type=\"z-cylinder\" />\r\n",
      "  <surface coeffs=\"0.9659258262890683 -0.2588190451025207 0 0\" id=\"35\" type=\"plane\" />\r\n",
      "</geometry>\r\n"
     ]
    }
   ],
   "source": [
    "root_universe = openmc.Universe(cells=(main_cell,buffer,top_buffer,bot_buffer))\n",
    "geometry = openmc.Geometry(root_universe)\n",
    "geometry.export_to_xml()\n",
    "!cat geometry.xml"
   ]
  },
  {
   "cell_type": "code",
   "execution_count": 12,
   "id": "613bc392",
   "metadata": {},
   "outputs": [],
   "source": [
    "plot1 = openmc.Plot.from_geometry(geometry)\n",
    "plot1.width=[140,140]\n",
    "plot1.type='slice'\n",
    "plot1.color_by = 'material'\n",
    "plot1.basis='xy'"
   ]
  },
  {
   "cell_type": "code",
   "execution_count": 13,
   "id": "8ccc95d1",
   "metadata": {},
   "outputs": [
    {
     "data": {
      "image/png": "[encoded data removed]",
      "text/plain": [
       "<IPython.core.display.Image object>"
      ]
     },
     "execution_count": 13,
     "metadata": {},
     "output_type": "execute_result"
    }
   ],
   "source": [
    "plot1.to_ipython_image()"
   ]
  },
  {
   "cell_type": "code",
   "execution_count": 14,
   "id": "e940452e",
   "metadata": {},
   "outputs": [],
   "source": [
    "plot2 = openmc.Plot.from_geometry(geometry)\n",
    "plot2.width=[300,300]\n",
    "plot2.color_by = 'material'\n",
    "plot2.basis='xz'"
   ]
  },
  {
   "cell_type": "code",
   "execution_count": 15,
   "id": "b9c023c9",
   "metadata": {},
   "outputs": [
    {
     "data": {
      "image/png": "[encoded data removed]",
      "text/plain": [
       "<IPython.core.display.Image object>"
      ]
     },
     "execution_count": 15,
     "metadata": {},
     "output_type": "execute_result"
    }
   ],
   "source": [
    "plot2.to_ipython_image()"
   ]
  },
  {
   "cell_type": "code",
   "execution_count": 16,
   "id": "ab0f36d8",
   "metadata": {},
   "outputs": [],
   "source": [
    "# OpenMC simulation parameters\n",
    "batches = 200\n",
    "inactive = 40\n",
    "particles = 10000\n",
    "\n",
    "# Instantiate a Settings object\n",
    "settings_file = openmc.Settings()\n",
    "settings_file.batches = batches\n",
    "settings_file.inactive = inactive\n",
    "settings_file.particles = particles\n",
    "#settings_file.output = {'tallies': True}\n",
    "\n",
    "# Create an initial uniform spatial source distribution over fissionable zones\n",
    "bounds = [-0.63, -0.63,-0.63, 0.63, 0.63,0.63]\n",
    "uniform_dist = openmc.stats.Box(bounds[:3], bounds[3:], only_fissionable=True)\n",
    "settings_file.source = openmc.Source(space=uniform_dist)\n",
    "\n",
    "# Export to \"settings.xml\"\n",
    "settings_file.export_to_xml()"
   ]
  },
  {
   "cell_type": "code",
   "execution_count": 17,
   "id": "e5ca44bd",
   "metadata": {},
   "outputs": [],
   "source": [
    "# Instantiate an empty Tallies object\n",
    "tallies_file=openmc.Tallies()"
   ]
  },
  {
   "cell_type": "code",
   "execution_count": 18,
   "id": "64f0433e",
   "metadata": {},
   "outputs": [],
   "source": [
    "#Create mesh which will be used for tally\n",
    "mesh = openmc.RegularMesh()\n",
    "mesh.dimension=[1000,1000,1]\n",
    "mesh.lower_left=[-70,-70,30]\n",
    "mesh.upper_right=[70,70,31]\n",
    "\n",
    "#Create mesh filter for tally\n",
    "mesh_filter=openmc.MeshFilter(mesh)\n",
    "\n",
    "#Create mesh tally to score flux and fission rate\n",
    "tally=openmc.Tally(name='flux')\n",
    "tally.filters=[mesh_filter]\n",
    "tally.scores=['flux','fission']\n",
    "tallies_file.append(tally)\n"
   ]
  },
  {
   "cell_type": "code",
   "execution_count": 19,
   "id": "45f80d74",
   "metadata": {},
   "outputs": [],
   "source": [
    "#Export to \"tallies.xml\"\n",
    "tallies_file.export_to_xml()"
   ]
  },
  {
   "cell_type": "markdown",
   "id": "8eb47338",
   "metadata": {},
   "source": []
  },
  {
   "cell_type": "markdown",
   "id": "33b96aa7",
   "metadata": {},
   "source": []
  },
  {
   "cell_type": "markdown",
   "id": "f6c1969c",
   "metadata": {},
   "source": []
  },
  {
   "cell_type": "code",
   "execution_count": 20,
   "id": "10955a2d",
   "metadata": {},
   "outputs": [
    {
     "name": "stdout",
     "output_type": "stream",
     "text": [
      "                                %%%%%%%%%%%%%%%\n",
      "                           %%%%%%%%%%%%%%%%%%%%%%%%\n",
      "                        %%%%%%%%%%%%%%%%%%%%%%%%%%%%%%\n",
      "                      %%%%%%%%%%%%%%%%%%%%%%%%%%%%%%%%%%\n",
      "                    %%%%%%%%%%%%%%%%%%%%%%%%%%%%%%%%%%%%%%\n",
      "                   %%%%%%%%%%%%%%%%%%%%%%%%%%%%%%%%%%%%%%%%\n",
      "                                    %%%%%%%%%%%%%%%%%%%%%%%%\n",
      "                                     %%%%%%%%%%%%%%%%%%%%%%%%\n",
      "                 ###############      %%%%%%%%%%%%%%%%%%%%%%%%\n",
      "                ##################     %%%%%%%%%%%%%%%%%%%%%%%\n",
      "                ###################     %%%%%%%%%%%%%%%%%%%%%%%\n",
      "                ####################     %%%%%%%%%%%%%%%%%%%%%%\n",
      "                #####################     %%%%%%%%%%%%%%%%%%%%%\n",
      "                ######################     %%%%%%%%%%%%%%%%%%%%\n",
      "                #######################     %%%%%%%%%%%%%%%%%%\n",
      "                 #######################     %%%%%%%%%%%%%%%%%\n",
      "                 ######################     %%%%%%%%%%%%%%%%%\n",
      "                  ####################     %%%%%%%%%%%%%%%%%\n",
      "                    #################     %%%%%%%%%%%%%%%%%\n",
      "                     ###############     %%%%%%%%%%%%%%%%\n",
      "                       ############     %%%%%%%%%%%%%%%\n",
      "                          ########     %%%%%%%%%%%%%%\n",
      "                                      %%%%%%%%%%%\n",
      "\n",
      "                   | The OpenMC Monte Carlo Code\n",
      "         Copyright | 2011-2021 MIT and OpenMC contributors\n",
      "           License | https://docs.openmc.org/en/latest/license.html\n",
      "           Version | 0.13.0-dev\n",
      "         Date/Time | 2022-10-02 02:45:54\n",
      "    OpenMP Threads | 6\n",
      "\n",
      " Reading settings XML file...\n",
      " Reading cross sections XML file...\n",
      " Reading materials XML file...\n",
      " Reading geometry XML file...\n",
      " Reading H1 from /home/hydro/nndc_hdf5/H1.h5\n",
      " Reading U235 from /home/hydro/nndc_hdf5/U235.h5\n",
      " Reading U238 from /home/hydro/nndc_hdf5/U238.h5\n",
      " Reading Zr90 from /home/hydro/nndc_hdf5/Zr90.h5\n",
      " Reading Zr91 from /home/hydro/nndc_hdf5/Zr91.h5\n",
      " Reading Zr92 from /home/hydro/nndc_hdf5/Zr92.h5\n",
      " Reading Zr94 from /home/hydro/nndc_hdf5/Zr94.h5\n",
      " Reading Zr96 from /home/hydro/nndc_hdf5/Zr96.h5\n",
      " Reading C0 from /home/hydro/nndc_hdf5/C0.h5\n",
      " Reading Be9 from /home/hydro/nndc_hdf5/Be9.h5\n",
      " Reading O16 from /home/hydro/nndc_hdf5/O16.h5\n",
      " Reading O17 from /home/hydro/nndc_hdf5/O17.h5\n",
      " Reading B10 from /home/hydro/nndc_hdf5/B10.h5\n",
      " Reading B11 from /home/hydro/nndc_hdf5/B11.h5\n",
      " Minimum neutron data temperature: 294.0 K\n",
      " Maximum neutron data temperature: 294.0 K\n",
      " Reading tallies XML file...\n",
      " Preparing distributed cell instances...\n",
      " Writing summary.h5 file...\n",
      " Maximum neutron transport energy: 20000000.0 eV for H1\n",
      " Initializing source particles...\n",
      "\n",
      " ====================>     K EIGENVALUE SIMULATION     <====================\n",
      "\n",
      "  Bat./Gen.      k            Average k\n",
      "  =========   ========   ====================\n",
      "        1/1    0.77357\n",
      "        2/1    0.93805\n",
      "        3/1    0.95439\n",
      "        4/1    0.95648\n",
      "        5/1    0.94409\n",
      "        6/1    0.95356\n",
      "        7/1    0.94302\n",
      "        8/1    0.95976\n",
      "        9/1    0.97914\n",
      "       10/1    0.96035\n",
      "       11/1    0.98465\n",
      "       12/1    0.96530\n",
      "       13/1    0.97917\n",
      "       14/1    0.98991\n",
      "       15/1    0.99060\n",
      "       16/1    0.97359\n",
      "       17/1    0.96984\n",
      "       18/1    0.98852\n",
      "       19/1    0.99381\n",
      "       20/1    0.98408\n",
      "       21/1    0.95250\n",
      "       22/1    0.99046\n",
      "       23/1    1.00345\n",
      "       24/1    0.98896\n",
      "       25/1    0.95967\n",
      "       26/1    0.98125\n",
      "       27/1    0.99127\n",
      "       28/1    0.98618\n",
      "       29/1    0.97766\n",
      "       30/1    0.97791\n",
      "       31/1    0.99054\n",
      "       32/1    0.99243\n",
      "       33/1    0.97210\n",
      "       34/1    1.00998\n",
      "       35/1    1.00300\n",
      "       36/1    1.00078\n",
      "       37/1    0.96070\n",
      "       38/1    0.99485\n",
      "       39/1    1.00385\n",
      "       40/1    0.99486\n",
      "       41/1    0.98217\n",
      "       42/1    0.98594    0.98405 +/- 0.00188\n",
      "       43/1    1.00088    0.98966 +/- 0.00572\n",
      "       44/1    0.99312    0.99053 +/- 0.00413\n",
      "       45/1    0.97659    0.98774 +/- 0.00424\n",
      "       46/1    0.96808    0.98446 +/- 0.00477\n",
      "       47/1    0.99548    0.98604 +/- 0.00433\n",
      "       48/1    0.98075    0.98538 +/- 0.00381\n",
      "       49/1    0.97894    0.98466 +/- 0.00343\n",
      "       50/1    0.98697    0.98489 +/- 0.00308\n",
      "       51/1    0.96736    0.98330 +/- 0.00321\n",
      "       52/1    0.99640    0.98439 +/- 0.00313\n",
      "       53/1    0.99465    0.98518 +/- 0.00298\n",
      "       54/1    0.98739    0.98534 +/- 0.00276\n",
      "       55/1    0.97909    0.98492 +/- 0.00261\n",
      "       56/1    0.99258    0.98540 +/- 0.00249\n",
      "       57/1    0.98598    0.98543 +/- 0.00234\n",
      "       58/1    0.98550    0.98544 +/- 0.00220\n",
      "       59/1    0.97000    0.98462 +/- 0.00224\n",
      "       60/1    0.97313    0.98405 +/- 0.00220\n",
      "       61/1    0.97700    0.98371 +/- 0.00212\n",
      "       62/1    0.95330    0.98233 +/- 0.00245\n",
      "       63/1    0.99542    0.98290 +/- 0.00241\n",
      "       64/1    0.98899    0.98315 +/- 0.00232\n",
      "       65/1    1.01744    0.98453 +/- 0.00261\n",
      "       66/1    0.97142    0.98402 +/- 0.00256\n",
      "       67/1    0.98733    0.98414 +/- 0.00247\n",
      "       68/1    0.98609    0.98421 +/- 0.00238\n",
      "       69/1    0.99294    0.98452 +/- 0.00231\n",
      "       70/1    0.97866    0.98432 +/- 0.00224\n",
      "       71/1    1.01774    0.98540 +/- 0.00242\n",
      "       72/1    0.98179    0.98529 +/- 0.00235\n",
      "       73/1    0.98866    0.98539 +/- 0.00228\n",
      "       74/1    0.98093    0.98526 +/- 0.00221\n",
      "       75/1    0.99243    0.98546 +/- 0.00216\n",
      "       76/1    0.97233    0.98510 +/- 0.00213\n",
      "       77/1    0.96023    0.98442 +/- 0.00218\n",
      "       78/1    0.99148    0.98461 +/- 0.00213\n",
      "       79/1    0.98735    0.98468 +/- 0.00207\n",
      "       80/1    0.99100    0.98484 +/- 0.00203\n",
      "       81/1    0.98150    0.98476 +/- 0.00198\n",
      "       82/1    0.99778    0.98507 +/- 0.00196\n",
      "       83/1    0.99150    0.98522 +/- 0.00192\n",
      "       84/1    0.99880    0.98553 +/- 0.00190\n",
      "       85/1    0.98849    0.98559 +/- 0.00186\n",
      "       86/1    0.97163    0.98529 +/- 0.00184\n",
      "       87/1    0.99481    0.98549 +/- 0.00181\n",
      "       88/1    0.99041    0.98559 +/- 0.00178\n",
      "       89/1    1.01483    0.98619 +/- 0.00184\n",
      "       90/1    0.96807    0.98583 +/- 0.00184\n",
      "       91/1    0.95325    0.98519 +/- 0.00191\n",
      "       92/1    0.98739    0.98523 +/- 0.00188\n",
      "       93/1    1.00472    0.98560 +/- 0.00188\n",
      "       94/1    0.99353    0.98575 +/- 0.00185\n",
      "       95/1    0.98281    0.98569 +/- 0.00181\n",
      "       96/1    0.95933    0.98522 +/- 0.00184\n",
      "       97/1    0.97218    0.98499 +/- 0.00182\n",
      "       98/1    0.99700    0.98520 +/- 0.00180\n",
      "       99/1    0.97191    0.98497 +/- 0.00179\n",
      "      100/1    0.97416    0.98479 +/- 0.00177\n",
      "      101/1    0.99889    0.98503 +/- 0.00175\n",
      "      102/1    1.01411    0.98549 +/- 0.00179\n",
      "      103/1    0.96949    0.98524 +/- 0.00178\n",
      "      104/1    0.99384    0.98537 +/- 0.00175\n",
      "      105/1    1.00206    0.98563 +/- 0.00175\n",
      "      106/1    1.01790    0.98612 +/- 0.00179\n",
      "      107/1    0.98416    0.98609 +/- 0.00176\n",
      "      108/1    0.99246    0.98618 +/- 0.00174\n",
      "      109/1    0.99701    0.98634 +/- 0.00172\n",
      "      110/1    0.98825    0.98637 +/- 0.00169\n",
      "      111/1    0.98236    0.98631 +/- 0.00167\n",
      "      112/1    0.97978    0.98622 +/- 0.00165\n",
      "      113/1    0.99628    0.98636 +/- 0.00163\n",
      "      114/1    0.97795    0.98625 +/- 0.00162\n",
      "      115/1    0.98403    0.98622 +/- 0.00159\n",
      "      116/1    1.00289    0.98644 +/- 0.00159\n",
      "      117/1    0.98046    0.98636 +/- 0.00157\n",
      "      118/1    1.00323    0.98657 +/- 0.00156\n",
      "      119/1    0.98552    0.98656 +/- 0.00154\n",
      "      120/1    0.98613    0.98656 +/- 0.00152\n",
      "      121/1    0.98228    0.98650 +/- 0.00151\n",
      "      122/1    0.98872    0.98653 +/- 0.00149\n",
      "      123/1    0.98647    0.98653 +/- 0.00147\n",
      "      124/1    1.00231    0.98672 +/- 0.00146\n",
      "      125/1    0.99565    0.98682 +/- 0.00145\n",
      "      126/1    0.96387    0.98655 +/- 0.00146\n",
      "      127/1    1.00169    0.98673 +/- 0.00145\n",
      "      128/1    0.97892    0.98664 +/- 0.00144\n",
      "      129/1    1.00760    0.98688 +/- 0.00144\n",
      "      130/1    0.97969    0.98680 +/- 0.00143\n",
      "      131/1    0.98897    0.98682 +/- 0.00141\n",
      "      132/1    0.98334    0.98678 +/- 0.00140\n",
      "      133/1    0.98469    0.98676 +/- 0.00138\n",
      "      134/1    0.97792    0.98667 +/- 0.00137\n",
      "      135/1    0.95379    0.98632 +/- 0.00140\n",
      "      136/1    0.98230    0.98628 +/- 0.00139\n",
      "      137/1    0.98388    0.98625 +/- 0.00137\n",
      "      138/1    1.00828    0.98648 +/- 0.00138\n"
     ]
    },
    {
     "name": "stdout",
     "output_type": "stream",
     "text": [
      "      139/1    0.97802    0.98639 +/- 0.00136\n",
      "      140/1    0.96321    0.98616 +/- 0.00137\n",
      "      141/1    0.99044    0.98620 +/- 0.00136\n",
      "      142/1    0.99289    0.98627 +/- 0.00135\n",
      "      143/1    0.97976    0.98621 +/- 0.00133\n",
      "      144/1    0.97977    0.98614 +/- 0.00132\n",
      "      145/1    0.96217    0.98591 +/- 0.00133\n",
      "      146/1    0.99516    0.98600 +/- 0.00132\n",
      "      147/1    0.98696    0.98601 +/- 0.00131\n",
      "      148/1    0.99759    0.98612 +/- 0.00130\n",
      "      149/1    0.99322    0.98618 +/- 0.00129\n",
      "      150/1    0.99791    0.98629 +/- 0.00128\n",
      "      151/1    0.97446    0.98618 +/- 0.00128\n",
      "      152/1    0.98225    0.98615 +/- 0.00126\n",
      "      153/1    0.97170    0.98602 +/- 0.00126\n",
      "      154/1    0.99648    0.98611 +/- 0.00125\n",
      "      155/1    0.99177    0.98616 +/- 0.00124\n",
      "      156/1    0.98386    0.98614 +/- 0.00123\n",
      "      157/1    0.99295    0.98620 +/- 0.00122\n",
      "      158/1    0.98552    0.98619 +/- 0.00121\n",
      "      159/1    0.96631    0.98603 +/- 0.00121\n",
      "      160/1    0.97339    0.98592 +/- 0.00121\n",
      "      161/1    0.95716    0.98568 +/- 0.00122\n",
      "      162/1    0.98251    0.98566 +/- 0.00121\n",
      "      163/1    0.97140    0.98554 +/- 0.00121\n",
      "      164/1    0.97736    0.98548 +/- 0.00120\n",
      "      165/1    0.97967    0.98543 +/- 0.00119\n",
      "      166/1    0.99868    0.98553 +/- 0.00119\n",
      "      167/1    0.99420    0.98560 +/- 0.00118\n",
      "      168/1    1.00531    0.98576 +/- 0.00118\n",
      "      169/1    0.97197    0.98565 +/- 0.00117\n",
      "      170/1    0.99776    0.98574 +/- 0.00117\n",
      "      171/1    0.98144    0.98571 +/- 0.00116\n",
      "      172/1    0.98208    0.98568 +/- 0.00115\n",
      "      173/1    0.96890    0.98556 +/- 0.00115\n",
      "      174/1    0.97675    0.98549 +/- 0.00114\n",
      "      175/1    0.98579    0.98549 +/- 0.00114\n",
      "      176/1    1.00321    0.98562 +/- 0.00113\n",
      "      177/1    0.97518    0.98555 +/- 0.00113\n",
      "      178/1    0.99096    0.98559 +/- 0.00112\n",
      "      179/1    0.99344    0.98564 +/- 0.00111\n",
      "      180/1    0.97941    0.98560 +/- 0.00111\n",
      "      181/1    0.98387    0.98559 +/- 0.00110\n",
      "      182/1    1.00666    0.98573 +/- 0.00110\n",
      "      183/1    0.97451    0.98566 +/- 0.00110\n",
      "      184/1    0.98974    0.98568 +/- 0.00109\n",
      "      185/1    0.97338    0.98560 +/- 0.00109\n",
      "      186/1    0.99383    0.98566 +/- 0.00108\n",
      "      187/1    0.97724    0.98560 +/- 0.00107\n",
      "      188/1    0.99170    0.98564 +/- 0.00107\n",
      "      189/1    1.00830    0.98579 +/- 0.00107\n",
      "      190/1    0.99132    0.98583 +/- 0.00106\n",
      "      191/1    0.98060    0.98579 +/- 0.00106\n",
      "      192/1    0.99209    0.98584 +/- 0.00105\n",
      "      193/1    0.97612    0.98577 +/- 0.00105\n",
      "      194/1    0.98813    0.98579 +/- 0.00104\n",
      "      195/1    0.98231    0.98577 +/- 0.00103\n",
      "      196/1    0.97411    0.98569 +/- 0.00103\n",
      "      197/1    0.97638    0.98563 +/- 0.00102\n",
      "      198/1    0.99929    0.98572 +/- 0.00102\n",
      "      199/1    0.97059    0.98562 +/- 0.00102\n",
      "      200/1    0.99092    0.98566 +/- 0.00101\n",
      " Creating state point statepoint.200.h5...\n",
      "\n",
      " =======================>     TIMING STATISTICS     <=======================\n",
      "\n",
      " Total time for initialization     = 4.0857e+00 seconds\n",
      "   Reading cross sections          = 3.9979e+00 seconds\n",
      " Total time in simulation          = 2.3643e+01 seconds\n",
      "   Time in transport only          = 2.1644e+01 seconds\n",
      "   Time in inactive batches        = 3.8835e+00 seconds\n",
      "   Time in active batches          = 1.9760e+01 seconds\n",
      "   Time synchronizing fission bank = 9.4946e-02 seconds\n",
      "     Sampling source sites         = 8.6368e-02 seconds\n",
      "     SEND/RECV source sites        = 8.3588e-03 seconds\n",
      "   Time accumulating tallies       = 5.3851e-01 seconds\n",
      "   Time writing statepoints        = 1.2807e+00 seconds\n",
      " Total time for finalization       = 7.6323e+00 seconds\n",
      " Total time elapsed                = 3.5386e+01 seconds\n",
      " Calculation Rate (inactive)       = 102999.0 particles/second\n",
      " Calculation Rate (active)         = 80972.0 particles/second\n",
      "\n",
      " ============================>     RESULTS     <============================\n",
      "\n",
      " k-effective (Collision)     = 0.98541 +/- 0.00089\n",
      " k-effective (Track-length)  = 0.98566 +/- 0.00101\n",
      " k-effective (Absorption)    = 0.98526 +/- 0.00080\n",
      " Combined k-effective        = 0.98532 +/- 0.00068\n",
      " Leakage Fraction            = 0.07209 +/- 0.00021\n",
      "\n"
     ]
    }
   ],
   "source": [
    "\n",
    "openmc.run()"
   ]
  },
  {
   "cell_type": "code",
   "execution_count": 21,
   "id": "fbf4390e",
   "metadata": {
    "scrolled": true
   },
   "outputs": [],
   "source": [
    "# Load the last statepoint file\n",
    "sp = openmc.StatePoint('statepoint.200.h5')"
   ]
  },
  {
   "cell_type": "code",
   "execution_count": 22,
   "id": "419e01e5",
   "metadata": {},
   "outputs": [
    {
     "name": "stdout",
     "output_type": "stream",
     "text": [
      "Tally\n",
      "\tID             =\t1\n",
      "\tName           =\tflux\n",
      "\tFilters        =\tMeshFilter\n",
      "\tNuclides       =\ttotal\n",
      "\tScores         =\t['flux', 'fission']\n",
      "\tEstimator      =\ttracklength\n"
     ]
    }
   ],
   "source": [
    "tally=sp.get_tally(scores=['flux'])\n",
    "print(tally)"
   ]
  },
  {
   "cell_type": "code",
   "execution_count": 23,
   "id": "42799891",
   "metadata": {},
   "outputs": [
    {
     "data": {
      "text/plain": [
       "array([[[0., 0.]],\n",
       "\n",
       "       [[0., 0.]],\n",
       "\n",
       "       [[0., 0.]],\n",
       "\n",
       "       ...,\n",
       "\n",
       "       [[0., 0.]],\n",
       "\n",
       "       [[0., 0.]],\n",
       "\n",
       "       [[0., 0.]]])"
      ]
     },
     "execution_count": 23,
     "metadata": {},
     "output_type": "execute_result"
    }
   ],
   "source": [
    "tally.sum"
   ]
  },
  {
   "cell_type": "code",
   "execution_count": 24,
   "id": "56980f73",
   "metadata": {},
   "outputs": [
    {
     "name": "stdout",
     "output_type": "stream",
     "text": [
      "(1000000, 1, 2)\n"
     ]
    },
    {
     "data": {
      "text/plain": [
       "(array([[[0., 0.]],\n",
       " \n",
       "        [[0., 0.]],\n",
       " \n",
       "        [[0., 0.]],\n",
       " \n",
       "        ...,\n",
       " \n",
       "        [[0., 0.]],\n",
       " \n",
       "        [[0., 0.]],\n",
       " \n",
       "        [[0., 0.]]]),\n",
       " array([[[0., 0.]],\n",
       " \n",
       "        [[0., 0.]],\n",
       " \n",
       "        [[0., 0.]],\n",
       " \n",
       "        ...,\n",
       " \n",
       "        [[0., 0.]],\n",
       " \n",
       "        [[0., 0.]],\n",
       " \n",
       "        [[0., 0.]]]))"
      ]
     },
     "execution_count": 24,
     "metadata": {},
     "output_type": "execute_result"
    }
   ],
   "source": [
    "print(tally.mean.shape)\n",
    "(tally.mean,tally.std_dev)"
   ]
  },
  {
   "cell_type": "code",
   "execution_count": 25,
   "id": "32eddbd7",
   "metadata": {},
   "outputs": [
    {
     "name": "stdout",
     "output_type": "stream",
     "text": [
      "Tally\n",
      "\tID             =\t2\n",
      "\tName           =\tflux\n",
      "\tFilters        =\tMeshFilter\n",
      "\tNuclides       =\ttotal\n",
      "\tScores         =\t['flux']\n",
      "\tEstimator      =\ttracklength\n"
     ]
    }
   ],
   "source": [
    "flux=tally.get_slice(scores=['flux'])\n",
    "fission=tally.get_slice(scores=['fission'])\n",
    "print(flux)\n"
   ]
  },
  {
   "cell_type": "code",
   "execution_count": 26,
   "id": "0d4d8a90",
   "metadata": {},
   "outputs": [],
   "source": [
    "flux.std_dev.shape=(1000,1000)\n",
    "flux.mean.shape=(1000,1000)\n",
    "fission.std_dev.shape=(1000,1000)\n",
    "fission.mean.shape=(1000,1000)"
   ]
  },
  {
   "cell_type": "code",
   "execution_count": 27,
   "id": "12f4c65e",
   "metadata": {},
   "outputs": [
    {
     "data": {
      "text/plain": [
       "<matplotlib.image.AxesImage at 0x7f5e1e444b20>"
      ]
     },
     "execution_count": 27,
     "metadata": {},
     "output_type": "execute_result"
    },
    {
     "data": {
      "image/png": "[encoded data removed]",
      "text/plain": [
       "<Figure size 432x288 with 2 Axes>"
      ]
     },
     "metadata": {
      "needs_background": "light"
     },
     "output_type": "display_data"
    }
   ],
   "source": [
    "fig=plt.subplot(121)\n",
    "fig.imshow(flux.mean)\n",
    "fig2=plt.subplot(122)\n",
    "fig2.imshow(fission.mean)"
   ]
  },
  {
   "cell_type": "markdown",
   "id": "6ce8de4e",
   "metadata": {},
   "source": []
  },
  {
   "cell_type": "markdown",
   "id": "e51d99c6",
   "metadata": {},
   "source": []
  },
  {
   "cell_type": "code",
   "execution_count": null,
   "id": "72529fa1",
   "metadata": {},
   "outputs": [],
   "source": []
  }
 ],
 "metadata": {
  "kernelspec": {
   "display_name": "Python 3",
   "language": "python",
   "name": "python3"
  },
  "language_info": {
   "codemirror_mode": {
    "name": "ipython",
    "version": 3
   },
   "file_extension": ".py",
   "mimetype": "text/x-python",
   "name": "python",
   "nbconvert_exporter": "python",
   "pygments_lexer": "ipython3",
   "version": "3.8.10"
  }
 },
 "nbformat": 4,
 "nbformat_minor": 5
}
